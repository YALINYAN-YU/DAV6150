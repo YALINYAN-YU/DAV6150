{
 "cells": [
  {
   "cell_type": "markdown",
   "metadata": {},
   "source": [
    "# Introduction\n",
    "\n",
    "For this assignment I will be tasked with calculating a suite of classification model performance metrics via Python code functions that I create and then comparing your results to those of pre-built Python functions that automatically calculate \n",
    "those same metrics. \n",
    "I will also be creating graphical output via Python code that can be used to evaluate the performance of classification models.\n",
    "\n",
    "The data set you will be using for this work is comprised of approximately 180 labeled binary observations. The data set has three key columns:\n",
    "1)class: the actual classification for the observation\n",
    "2)scored.class: the predicted classification for the observation (can only be ‘0’ or ‘1’; identified by comparing the classification model’s probability score (i.e., the likelihood that the correct classification for an observation is a ‘1’) for the observation against a 0.50 threshold))\n",
    "3)scored.probability: the classification model’s probability score (i.e., the likelihood that the correct classification for an observation is a ‘1’) for the observation\n",
    "\n",
    "\n"
   ]
  },
  {
   "cell_type": "markdown",
   "metadata": {},
   "source": [
    "# Step 1&2: Load the data"
   ]
  },
  {
   "cell_type": "code",
   "execution_count": 2,
   "metadata": {},
   "outputs": [
    {
     "data": {
      "text/html": [
       "<div>\n",
       "<style scoped>\n",
       "    .dataframe tbody tr th:only-of-type {\n",
       "        vertical-align: middle;\n",
       "    }\n",
       "\n",
       "    .dataframe tbody tr th {\n",
       "        vertical-align: top;\n",
       "    }\n",
       "\n",
       "    .dataframe thead th {\n",
       "        text-align: right;\n",
       "    }\n",
       "</style>\n",
       "<table border=\"1\" class=\"dataframe\">\n",
       "  <thead>\n",
       "    <tr style=\"text-align: right;\">\n",
       "      <th></th>\n",
       "      <th>pregnant</th>\n",
       "      <th>glucose</th>\n",
       "      <th>diastolic</th>\n",
       "      <th>skinfold</th>\n",
       "      <th>insulin</th>\n",
       "      <th>bmi</th>\n",
       "      <th>pedigree</th>\n",
       "      <th>age</th>\n",
       "      <th>class</th>\n",
       "      <th>scored.class</th>\n",
       "      <th>scored.probability</th>\n",
       "    </tr>\n",
       "  </thead>\n",
       "  <tbody>\n",
       "    <tr>\n",
       "      <th>0</th>\n",
       "      <td>7</td>\n",
       "      <td>124</td>\n",
       "      <td>70</td>\n",
       "      <td>33</td>\n",
       "      <td>215</td>\n",
       "      <td>25.5</td>\n",
       "      <td>0.161</td>\n",
       "      <td>37</td>\n",
       "      <td>0</td>\n",
       "      <td>0</td>\n",
       "      <td>0.328452</td>\n",
       "    </tr>\n",
       "    <tr>\n",
       "      <th>1</th>\n",
       "      <td>2</td>\n",
       "      <td>122</td>\n",
       "      <td>76</td>\n",
       "      <td>27</td>\n",
       "      <td>200</td>\n",
       "      <td>35.9</td>\n",
       "      <td>0.483</td>\n",
       "      <td>26</td>\n",
       "      <td>0</td>\n",
       "      <td>0</td>\n",
       "      <td>0.273190</td>\n",
       "    </tr>\n",
       "    <tr>\n",
       "      <th>2</th>\n",
       "      <td>3</td>\n",
       "      <td>107</td>\n",
       "      <td>62</td>\n",
       "      <td>13</td>\n",
       "      <td>48</td>\n",
       "      <td>22.9</td>\n",
       "      <td>0.678</td>\n",
       "      <td>23</td>\n",
       "      <td>1</td>\n",
       "      <td>0</td>\n",
       "      <td>0.109660</td>\n",
       "    </tr>\n",
       "    <tr>\n",
       "      <th>3</th>\n",
       "      <td>1</td>\n",
       "      <td>91</td>\n",
       "      <td>64</td>\n",
       "      <td>24</td>\n",
       "      <td>0</td>\n",
       "      <td>29.2</td>\n",
       "      <td>0.192</td>\n",
       "      <td>21</td>\n",
       "      <td>0</td>\n",
       "      <td>0</td>\n",
       "      <td>0.055998</td>\n",
       "    </tr>\n",
       "    <tr>\n",
       "      <th>4</th>\n",
       "      <td>4</td>\n",
       "      <td>83</td>\n",
       "      <td>86</td>\n",
       "      <td>19</td>\n",
       "      <td>0</td>\n",
       "      <td>29.3</td>\n",
       "      <td>0.317</td>\n",
       "      <td>34</td>\n",
       "      <td>0</td>\n",
       "      <td>0</td>\n",
       "      <td>0.100491</td>\n",
       "    </tr>\n",
       "  </tbody>\n",
       "</table>\n",
       "</div>"
      ],
      "text/plain": [
       "   pregnant  glucose  diastolic  skinfold  insulin   bmi  pedigree  age  \\\n",
       "0         7      124         70        33      215  25.5     0.161   37   \n",
       "1         2      122         76        27      200  35.9     0.483   26   \n",
       "2         3      107         62        13       48  22.9     0.678   23   \n",
       "3         1       91         64        24        0  29.2     0.192   21   \n",
       "4         4       83         86        19        0  29.3     0.317   34   \n",
       "\n",
       "   class  scored.class  scored.probability  \n",
       "0      0             0            0.328452  \n",
       "1      0             0            0.273190  \n",
       "2      1             0            0.109660  \n",
       "3      0             0            0.055998  \n",
       "4      0             0            0.100491  "
      ]
     },
     "execution_count": 2,
     "metadata": {},
     "output_type": "execute_result"
    }
   ],
   "source": [
    "# load the pandas library\n",
    "import pandas as pd\n",
    "\n",
    "# load the train_test_split function from the sklearn.model_selection module\n",
    "from sklearn.model_selection import train_test_split\n",
    "\n",
    "# start by reading a set of sample data from github. This data set contains information related to flights\n",
    "# departing from the two major airports in Houston, Texas\n",
    "filename = \"https://raw.githubusercontent.com/YALINYAN-YU/DAV6150/master/M5_Data.csv\"\n",
    "df = pd.read_csv(filename)\n",
    "df.head()"
   ]
  },
  {
   "cell_type": "markdown",
   "metadata": {},
   "source": [
    "# Step3:Use Pandas’ crosstab() function to calculate the contents of a confusion matrix for the data."
   ]
  },
  {
   "cell_type": "code",
   "execution_count": 3,
   "metadata": {},
   "outputs": [
    {
     "data": {
      "text/html": [
       "<div>\n",
       "<style scoped>\n",
       "    .dataframe tbody tr th:only-of-type {\n",
       "        vertical-align: middle;\n",
       "    }\n",
       "\n",
       "    .dataframe tbody tr th {\n",
       "        vertical-align: top;\n",
       "    }\n",
       "\n",
       "    .dataframe thead th {\n",
       "        text-align: right;\n",
       "    }\n",
       "</style>\n",
       "<table border=\"1\" class=\"dataframe\">\n",
       "  <thead>\n",
       "    <tr style=\"text-align: right;\">\n",
       "      <th>Predicted</th>\n",
       "      <th>0</th>\n",
       "      <th>1</th>\n",
       "      <th>All</th>\n",
       "    </tr>\n",
       "    <tr>\n",
       "      <th>Actual</th>\n",
       "      <th></th>\n",
       "      <th></th>\n",
       "      <th></th>\n",
       "    </tr>\n",
       "  </thead>\n",
       "  <tbody>\n",
       "    <tr>\n",
       "      <th>0</th>\n",
       "      <td>119</td>\n",
       "      <td>5</td>\n",
       "      <td>124</td>\n",
       "    </tr>\n",
       "    <tr>\n",
       "      <th>1</th>\n",
       "      <td>30</td>\n",
       "      <td>27</td>\n",
       "      <td>57</td>\n",
       "    </tr>\n",
       "    <tr>\n",
       "      <th>All</th>\n",
       "      <td>149</td>\n",
       "      <td>32</td>\n",
       "      <td>181</td>\n",
       "    </tr>\n",
       "  </tbody>\n",
       "</table>\n",
       "</div>"
      ],
      "text/plain": [
       "Predicted    0   1  All\n",
       "Actual                 \n",
       "0          119   5  124\n",
       "1           30  27   57\n",
       "All        149  32  181"
      ]
     },
     "execution_count": 3,
     "metadata": {},
     "output_type": "execute_result"
    }
   ],
   "source": [
    "# use the crosstab() function to show the contents of a confusion matrix\n",
    "cm = pd.crosstab(df['class'], df['scored.class'], rownames=['Actual'], colnames=['Predicted'], margins=True)\n",
    "cm"
   ]
  },
  {
   "cell_type": "markdown",
   "metadata": {},
   "source": [
    "For the output of confusion matrix, the rows represent the actual classification and the columns represent the predicted classification.\n",
    "The total number of observations is 181.\n",
    "The total number of the actual classification 0 value is 124. Among them, 119 observations were predicted correctly, and 5 observations were incorrectly predicted as 1.\n",
    "The total number of the actual classification 1 value is 57. Among them, 27 observations were predicted correctly, and 30 observations were incorrectly predicted as 0."
   ]
  },
  {
   "cell_type": "code",
   "execution_count": 4,
   "metadata": {},
   "outputs": [
    {
     "data": {
      "text/html": [
       "<div>\n",
       "<style scoped>\n",
       "    .dataframe tbody tr th:only-of-type {\n",
       "        vertical-align: middle;\n",
       "    }\n",
       "\n",
       "    .dataframe tbody tr th {\n",
       "        vertical-align: top;\n",
       "    }\n",
       "\n",
       "    .dataframe thead th {\n",
       "        text-align: right;\n",
       "    }\n",
       "</style>\n",
       "<table border=\"1\" class=\"dataframe\">\n",
       "  <thead>\n",
       "    <tr style=\"text-align: right;\">\n",
       "      <th></th>\n",
       "      <th>counts</th>\n",
       "    </tr>\n",
       "    <tr>\n",
       "      <th>actual class</th>\n",
       "      <th></th>\n",
       "    </tr>\n",
       "  </thead>\n",
       "  <tbody>\n",
       "    <tr>\n",
       "      <th>0</th>\n",
       "      <td>124</td>\n",
       "    </tr>\n",
       "    <tr>\n",
       "      <th>1</th>\n",
       "      <td>57</td>\n",
       "    </tr>\n",
       "  </tbody>\n",
       "</table>\n",
       "</div>"
      ],
      "text/plain": [
       "              counts\n",
       "actual class        \n",
       "0                124\n",
       "1                 57"
      ]
     },
     "execution_count": 4,
     "metadata": {},
     "output_type": "execute_result"
    }
   ],
   "source": [
    "# check counts of the actual observations\n",
    "df['class'].value_counts().rename_axis('actual class').to_frame('counts')"
   ]
  },
  {
   "cell_type": "code",
   "execution_count": 5,
   "metadata": {},
   "outputs": [
    {
     "data": {
      "text/html": [
       "<div>\n",
       "<style scoped>\n",
       "    .dataframe tbody tr th:only-of-type {\n",
       "        vertical-align: middle;\n",
       "    }\n",
       "\n",
       "    .dataframe tbody tr th {\n",
       "        vertical-align: top;\n",
       "    }\n",
       "\n",
       "    .dataframe thead th {\n",
       "        text-align: right;\n",
       "    }\n",
       "</style>\n",
       "<table border=\"1\" class=\"dataframe\">\n",
       "  <thead>\n",
       "    <tr style=\"text-align: right;\">\n",
       "      <th></th>\n",
       "      <th>counts</th>\n",
       "    </tr>\n",
       "    <tr>\n",
       "      <th>predicted class</th>\n",
       "      <th></th>\n",
       "    </tr>\n",
       "  </thead>\n",
       "  <tbody>\n",
       "    <tr>\n",
       "      <th>0</th>\n",
       "      <td>149</td>\n",
       "    </tr>\n",
       "    <tr>\n",
       "      <th>1</th>\n",
       "      <td>32</td>\n",
       "    </tr>\n",
       "  </tbody>\n",
       "</table>\n",
       "</div>"
      ],
      "text/plain": [
       "                 counts\n",
       "predicted class        \n",
       "0                   149\n",
       "1                    32"
      ]
     },
     "execution_count": 5,
     "metadata": {},
     "output_type": "execute_result"
    }
   ],
   "source": [
    "\n",
    "# check counts of the predicted observations\n",
    "df['scored.class'].value_counts().rename_axis('predicted class').to_frame('counts')"
   ]
  },
  {
   "cell_type": "markdown",
   "metadata": {},
   "source": [
    "Combining to the data above, We can see that the results in our crosstab are the same with our results in value_counts."
   ]
  },
  {
   "cell_type": "markdown",
   "metadata": {},
   "source": [
    "# Step 4: Extract the individual confusion matrix values"
   ]
  },
  {
   "cell_type": "code",
   "execution_count": 6,
   "metadata": {},
   "outputs": [
    {
     "data": {
      "text/html": [
       "<div>\n",
       "<style scoped>\n",
       "    .dataframe tbody tr th:only-of-type {\n",
       "        vertical-align: middle;\n",
       "    }\n",
       "\n",
       "    .dataframe tbody tr th {\n",
       "        vertical-align: top;\n",
       "    }\n",
       "\n",
       "    .dataframe thead th {\n",
       "        text-align: right;\n",
       "    }\n",
       "</style>\n",
       "<table border=\"1\" class=\"dataframe\">\n",
       "  <thead>\n",
       "    <tr style=\"text-align: right;\">\n",
       "      <th></th>\n",
       "      <th>confusion matrix</th>\n",
       "      <th>count</th>\n",
       "    </tr>\n",
       "  </thead>\n",
       "  <tbody>\n",
       "    <tr>\n",
       "      <th>0</th>\n",
       "      <td>True_Negative</td>\n",
       "      <td>119</td>\n",
       "    </tr>\n",
       "    <tr>\n",
       "      <th>1</th>\n",
       "      <td>True_Positive</td>\n",
       "      <td>27</td>\n",
       "    </tr>\n",
       "    <tr>\n",
       "      <th>2</th>\n",
       "      <td>False_Negative</td>\n",
       "      <td>30</td>\n",
       "    </tr>\n",
       "    <tr>\n",
       "      <th>3</th>\n",
       "      <td>False_Positive</td>\n",
       "      <td>5</td>\n",
       "    </tr>\n",
       "  </tbody>\n",
       "</table>\n",
       "</div>"
      ],
      "text/plain": [
       "  confusion matrix  count\n",
       "0    True_Negative    119\n",
       "1    True_Positive     27\n",
       "2   False_Negative     30\n",
       "3   False_Positive      5"
      ]
     },
     "execution_count": 6,
     "metadata": {},
     "output_type": "execute_result"
    }
   ],
   "source": [
    "\n",
    "# extract the True Positive, False Positive, True Negative, False Negative\n",
    "\n",
    "TN = cm[0][0]\n",
    "TP = cm[1][1]\n",
    "FN = cm[0][1]\n",
    "FP = cm[1][0]\n",
    "\n",
    "# put extracted values into a data frame\n",
    "df02 = pd.DataFrame({'confusion matrix':['True_Negative', 'True_Positive','False_Negative','False_Positive'],\n",
    "                   'count': [TN,TP,FN,FP]})\n",
    "df02"
   ]
  },
  {
   "cell_type": "markdown",
   "metadata": {},
   "source": [
    "TN(True Negative) is 119: Actual Observation is 0, and model is predicting them as 0.\n",
    "\n",
    "TP(True Positive) is 27: Actual Observation is 1, and model is predicting them as 1.\n",
    "\n",
    "FN(False Negative) is 30: Actual Observation is 1, and model is predicting them as 0.\n",
    "\n",
    "FP(False Positive) is 5 : Actual Observation is 0, and model is predicting them as 1."
   ]
  },
  {
   "cell_type": "markdown",
   "metadata": {},
   "source": [
    "# Step 5: Define function - Accuracy metric"
   ]
  },
  {
   "cell_type": "code",
   "execution_count": 9,
   "metadata": {},
   "outputs": [],
   "source": [
    "\n",
    "# Define a function to compute the accuracy\n",
    "def compute_accuracy(y_true, y_pred):\n",
    "    cm = pd.crosstab(y_true, y_pred, rownames=['Actual'], colnames=['Predicted'], margins=True)\n",
    "    TN = cm[0][0]\n",
    "    TP = cm[1][1]\n",
    "    FN = cm[0][1]\n",
    "    FP = cm[1][0]\n",
    "    func_accuracy = (TP + TN) / (TP + TN + FP + FN)\n",
    "    return func_accuracy"
   ]
  },
  {
   "cell_type": "markdown",
   "metadata": {},
   "source": [
    "# Step6: Define function - Precision metric"
   ]
  },
  {
   "cell_type": "markdown",
   "metadata": {},
   "source": [
    "When a positive (1) value is predicted, how often is the prediction correct? It's the ability to find only relevant samples \n",
    "(not label a negative as a positive)"
   ]
  },
  {
   "cell_type": "code",
   "execution_count": 12,
   "metadata": {},
   "outputs": [],
   "source": [
    "# Define a function to compute the precision\n",
    "def compute_precision(y_true, y_pred):\n",
    "    cm = pd.crosstab(y_true, y_pred, rownames=['Actual'], colnames=['Predicted'], margins=True)\n",
    "    TN = cm[0][0]\n",
    "    TP = cm[1][1]\n",
    "    FN = cm[0][1]\n",
    "    FP = cm[1][0]\n",
    "    func_precision = TP / (TP + FP)\n",
    "    return func_precision"
   ]
  },
  {
   "cell_type": "markdown",
   "metadata": {},
   "source": [
    "# Step7: Define function - Sensitivity/Recall metric"
   ]
  },
  {
   "cell_type": "code",
   "execution_count": 13,
   "metadata": {},
   "outputs": [],
   "source": [
    "# When the actual value is 1, how often is the prediction correct? It's the ability to find all positive samples.\n",
    "# Define a function to compute the recall\n",
    "def compute_sensitivity(y_true, y_pred):\n",
    "    cm = pd.crosstab(y_true, y_pred, rownames=['Actual'], colnames=['Predicted'], margins=True)\n",
    "    TN = cm[0][0]\n",
    "    TP = cm[1][1]\n",
    "    FN = cm[0][1]\n",
    "    FP = cm[1][0]\n",
    "    func_recall = TP / (TP + FN)\n",
    "    return func_recall"
   ]
  },
  {
   "cell_type": "markdown",
   "metadata": {},
   "source": [
    "# Step8: Define function - Specificity metric"
   ]
  },
  {
   "cell_type": "code",
   "execution_count": null,
   "metadata": {},
   "outputs": [],
   "source": [
    "# When the actual value is 0, how often is the prediction correct? It's the exact opposite of Recall.\n",
    "# Define a function to compute the specificity\n",
    "def compute_specificity(y_true, y_pred):\n",
    "    cm = pd.crosstab(y_true, y_pred, rownames=['Actual'], colnames=['Predicted'], margins=True)\n",
    "    TN = cm[0][0]\n",
    "    TP = cm[1][1]\n",
    "    FN = cm[0][1]\n",
    "    FP = cm[1][0]    \n",
    "    func_specificity = TN/(TN + FP)\n",
    "    return func_specificity"
   ]
  },
  {
   "cell_type": "markdown",
   "metadata": {},
   "source": [
    "# Step9: Define function - F1 Score metric"
   ]
  },
  {
   "cell_type": "markdown",
   "metadata": {},
   "source": [
    "It is difficult to compare two models with low precision and high recall or vice versa. So to make them comparable, \n",
    "we use F-Score. F-score helps to measure Recall and Precision at the same time. It uses Harmonic Mean in place of Arithmetic\n",
    "Mean by punishing the extreme values more.\n",
    "\n",
    "F1 Score = 2 Precision Recall / (Precision + Recall)"
   ]
  },
  {
   "cell_type": "code",
   "execution_count": 14,
   "metadata": {},
   "outputs": [],
   "source": [
    "# Define a function to compute the f1 score\n",
    "def compute_F1_score(y_true, y_pred):\n",
    "    cm = pd.crosstab(y_true, y_pred, rownames=['Actual'], colnames=['Predicted'], margins=True)\n",
    "    TN = cm[0][0]\n",
    "    TP = cm[1][1]\n",
    "    FN = cm[0][1]\n",
    "    FP = cm[1][0]\n",
    "    f1_score = (2*(TP/(TP + FP))*(TP/(FN + TP))) / ((TP/(TP + FP))+(TP/(FN + TP)))\n",
    "    return f1_score"
   ]
  },
  {
   "cell_type": "markdown",
   "metadata": {},
   "source": [
    "# Step10: Create a python function to plot a ROC curve and also calculate AUC"
   ]
  },
  {
   "cell_type": "markdown",
   "metadata": {},
   "source": [
    "Step 01: Calculate tps, fps, and thresholds\n",
    "1.Calculate true and false positives per binary classification threshold. The calcuation makes the assumption that the positive case will always be labeled as 1.\n",
    "\n",
    "2.Parameters:\n",
    "\n",
    "y_true : true targets/labels of binary classification\n",
    "y_score : the classification model’s probability scores\n",
    "\n",
    "3.Returns:\n",
    "\n",
    "tps : 1d ndarray\n",
    "    True positives counts, index i records the number\n",
    "    of positive samples that got assigned a\n",
    "    score >= thresholds[i].\n",
    "    The total number of positive samples is equal to\n",
    "    tps[-1] (thus false negatives are given by tps[-1] - tps)\n",
    "\n",
    "fps : 1d ndarray\n",
    "    False positives counts, index i records the number\n",
    "    of negative samples that got assigned a\n",
    "    score >= thresholds[i].\n",
    "    The total number of negative samples is equal to\n",
    "    fps[-1] (thus true negatives are given by fps[-1] - fps)\n",
    "\n",
    "thresholds : 1d ndarray\n",
    "    Predicted score sorted in decreasing order"
   ]
  },
  {
   "cell_type": "code",
   "execution_count": 29,
   "metadata": {},
   "outputs": [],
   "source": [
    "def _binary_clf_curve(y_true, y_score):\n",
    "    # sort predicted scores in descending order\n",
    "    # and also reorder corresponding truth values\n",
    "    desc_score_indices = np.argsort(y_score)[::-1]\n",
    "    y_score = y_score[desc_score_indices]\n",
    "    y_true = y_true[desc_score_indices]\n",
    "\n",
    "    # y_score typically consists of tied values. Here we extract\n",
    "    # the indices associated with the distinct values. We also\n",
    "    # concatenate a value for the end of the curve\n",
    "    distinct_indices = np.where(np.diff(y_score))[0]\n",
    "    end = np.array([y_true.size - 1])\n",
    "    threshold_indices = np.hstack((distinct_indices, end))\n",
    "\n",
    "    thresholds = y_score[threshold_indices]\n",
    "    tps = np.cumsum(y_true)[threshold_indices]\n",
    "\n",
    "    # (1 + threshold_indices) = the number of positives\n",
    "    # at each index, thus number of data points minus true\n",
    "    # positives = false positives\n",
    "    fps = (1 + threshold_indices) - tps\n",
    "    return tps, fps, thresholds"
   ]
  },
  {
   "cell_type": "markdown",
   "metadata": {},
   "source": [
    "Step 02: Calculate AUC\n",
    "\n",
    "1.Compute Area Under the Curve (AUC) from prediction scores\n",
    "\n",
    "2.Parameters:\n",
    "\n",
    " y_true : 1d ndarray, shape = [n_samples]\n",
    " True targets/labels of binary classification\n",
    "\n",
    " y_score : 1d ndarray, shape = [n_samples]\n",
    " Estimated probabilities or scores\n",
    "\n",
    "3.Returns:\n",
    "\n",
    " auc : float"
   ]
  },
  {
   "cell_type": "code",
   "execution_count": 30,
   "metadata": {},
   "outputs": [],
   "source": [
    "def _roc_auc_score(y_true, y_score):\n",
    "    # ensure the target is binary\n",
    "    if np.unique(y_true).size != 2:\n",
    "        raise ValueError('Only two class should be present in y_true. ROC AUC score '\n",
    "                         'is not defined in that case.')\n",
    "    \n",
    "    tps, fps, _ = _binary_clf_curve(y_true, y_score)\n",
    "\n",
    "    # convert count to rate\n",
    "    tpr = tps / tps[-1]\n",
    "    fpr = fps / fps[-1]\n",
    "\n",
    "    # compute AUC using the trapezoidal rule;\n",
    "    # appending an extra 0 is just to ensure the length matches\n",
    "    zero = np.array([0])\n",
    "    tpr_diff = np.hstack((np.diff(tpr), zero))\n",
    "    fpr_diff = np.hstack((np.diff(fpr), zero))\n",
    "    auc = np.dot(tpr, fpr_diff) + np.dot(tpr_diff, fpr_diff) / 2\n",
    "    return auc"
   ]
  },
  {
   "cell_type": "markdown",
   "metadata": {},
   "source": [
    "Step 03: Plot ROC curve"
   ]
  },
  {
   "cell_type": "code",
   "execution_count": 31,
   "metadata": {},
   "outputs": [],
   "source": [
    "def plot_roc_curve(y_true, y_score):\n",
    "    # convert count to rate, append 0 to\n",
    "    # both true positive and false positive\n",
    "    # so the visualization will start from origin (0, 0)\n",
    "    tpr = np.hstack((0, tps / tps[-1]))\n",
    "    fpr = np.hstack((0, fps / fps[-1]))\n",
    "    plt.plot(fpr, tpr, color='orange', label='AUC=%0.2f'%auc_score)\n",
    "    plt.plot([0, 1], [0, 1], color='darkblue', linestyle='--')\n",
    "    plt.xlabel('False Positive Rate')\n",
    "    plt.ylabel('True Positive Rate')\n",
    "    plt.title('Figure01: Receiver Operating Characteristic (ROC) Curve')\n",
    "    plt.legend()\n",
    "    plt.show()"
   ]
  },
  {
   "cell_type": "markdown",
   "metadata": {},
   "source": [
    "Step 04: Work with this data"
   ]
  },
  {
   "cell_type": "code",
   "execution_count": 38,
   "metadata": {},
   "outputs": [],
   "source": [
    "# set up data\n",
    "import numpy as np\n",
    "y_true = np.array(df['class'])\n",
    "y_score = np.array(df['scored.probability'])"
   ]
  },
  {
   "cell_type": "code",
   "execution_count": 39,
   "metadata": {},
   "outputs": [
    {
     "name": "stdout",
     "output_type": "stream",
     "text": [
      "auc score: 0.8503112620260328\n"
     ]
    },
    {
     "data": {
      "image/png": "[encoded data removed]",
      "text/plain": [
       "<Figure size 432x288 with 1 Axes>"
      ]
     },
     "metadata": {
      "needs_background": "light"
     },
     "output_type": "display_data"
    }
   ],
   "source": [
    "# Step01: Calculate tps, fps, and thresholds\n",
    "tps, fps, thresholds = _binary_clf_curve(y_true, y_score)\n",
    "\n",
    "# Step 02: Calculate AUC \n",
    "auc_score = _roc_auc_score(y_true, y_score)\n",
    "print('auc score:', auc_score)\n",
    "\n",
    "# Step 03: Plot ROC curve\n",
    "plot_roc_curve(y_true, y_score)"
   ]
  },
  {
   "cell_type": "code",
   "execution_count": null,
   "metadata": {},
   "outputs": [],
   "source": []
  },
  {
   "cell_type": "markdown",
   "metadata": {},
   "source": [
    "# 11) Apply the Python functions we’ve created to the relevant columns of the provided data set to produce the classification metrics"
   ]
  },
  {
   "cell_type": "code",
   "execution_count": 15,
   "metadata": {},
   "outputs": [
    {
     "data": {
      "text/plain": [
       "0.8066298342541437"
      ]
     },
     "execution_count": 15,
     "metadata": {},
     "output_type": "execute_result"
    }
   ],
   "source": [
    "\n",
    "# compute the accuracy\n",
    "\n",
    "func_accuracy = compute_accuracy(df['class'], df['scored.class'])\n",
    "func_accuracy"
   ]
  },
  {
   "cell_type": "code",
   "execution_count": 16,
   "metadata": {},
   "outputs": [
    {
     "data": {
      "text/plain": [
       "0.84375"
      ]
     },
     "execution_count": 16,
     "metadata": {},
     "output_type": "execute_result"
    }
   ],
   "source": [
    "#compute the precision\n",
    "\n",
    "precision = compute_precision(df['class'], df['scored.class'])\n",
    "precision"
   ]
  },
  {
   "cell_type": "code",
   "execution_count": 48,
   "metadata": {},
   "outputs": [
    {
     "data": {
      "text/plain": [
       "0.47368421052631576"
      ]
     },
     "execution_count": 48,
     "metadata": {},
     "output_type": "execute_result"
    }
   ],
   "source": [
    "# compute the sensitivity\n",
    "\n",
    "sensitivity = compute_sensitivity(df['class'], df['scored.class'])\n",
    "sensitivity"
   ]
  },
  {
   "cell_type": "code",
   "execution_count": 21,
   "metadata": {},
   "outputs": [
    {
     "data": {
      "text/plain": [
       "0.6067415730337079"
      ]
     },
     "execution_count": 21,
     "metadata": {},
     "output_type": "execute_result"
    }
   ],
   "source": [
    "\n",
    "# compute the f1 score\n",
    "\n",
    "f1score = compute_F1_score(df['class'], df['scored.class'])\n",
    "f1score"
   ]
  },
  {
   "cell_type": "markdown",
   "metadata": {},
   "source": [
    "# 12) Compare the output of our functions against the output of the pre-built functions available within the scikit-learn library"
   ]
  },
  {
   "cell_type": "code",
   "execution_count": 23,
   "metadata": {},
   "outputs": [
    {
     "data": {
      "text/html": [
       "<div>\n",
       "<style scoped>\n",
       "    .dataframe tbody tr th:only-of-type {\n",
       "        vertical-align: middle;\n",
       "    }\n",
       "\n",
       "    .dataframe tbody tr th {\n",
       "        vertical-align: top;\n",
       "    }\n",
       "\n",
       "    .dataframe thead th {\n",
       "        text-align: right;\n",
       "    }\n",
       "</style>\n",
       "<table border=\"1\" class=\"dataframe\">\n",
       "  <thead>\n",
       "    <tr style=\"text-align: right;\">\n",
       "      <th></th>\n",
       "      <th>Predict0</th>\n",
       "      <th>Predict1</th>\n",
       "    </tr>\n",
       "  </thead>\n",
       "  <tbody>\n",
       "    <tr>\n",
       "      <th>Actual0</th>\n",
       "      <td>119</td>\n",
       "      <td>5</td>\n",
       "    </tr>\n",
       "    <tr>\n",
       "      <th>Actual1</th>\n",
       "      <td>30</td>\n",
       "      <td>27</td>\n",
       "    </tr>\n",
       "  </tbody>\n",
       "</table>\n",
       "</div>"
      ],
      "text/plain": [
       "         Predict0  Predict1\n",
       "Actual0       119         5\n",
       "Actual1        30        27"
      ]
     },
     "execution_count": 23,
     "metadata": {},
     "output_type": "execute_result"
    }
   ],
   "source": [
    "# Check the output by using sklearn.metrics.confusion_matrix\n",
    "from sklearn.metrics import confusion_matrix\n",
    "import matplotlib.pyplot as plt\n",
    "\n",
    "y_actual = df['class']\n",
    "y_predict = df['scored.class']\n",
    "cm02 = pd.DataFrame(confusion_matrix(y_actual, y_predict), columns=[\"Predict0\", \"Predict1\"],\n",
    "             index=[\"Actual0\",\"Actual1\"])\n",
    "\n",
    "cm02"
   ]
  },
  {
   "cell_type": "code",
   "execution_count": 52,
   "metadata": {},
   "outputs": [
    {
     "data": {
      "image/png": "[encoded data removed]",
      "text/plain": [
       "<Figure size 432x288 with 2 Axes>"
      ]
     },
     "metadata": {
      "needs_background": "light"
     },
     "output_type": "display_data"
    }
   ],
   "source": [
    "\n",
    "#plot confusion matrix\n",
    "\n",
    "import seaborn as sns\n",
    "sns.heatmap(cm02, annot=True, fmt='g')\n",
    "plt.show()"
   ]
  },
  {
   "cell_type": "code",
   "execution_count": 25,
   "metadata": {},
   "outputs": [
    {
     "name": "stdout",
     "output_type": "stream",
     "text": [
      "Accuracy classification score: 0.8066298342541437\n",
      "the Accuracy in our built function 0.8066298342541437\n"
     ]
    }
   ],
   "source": [
    "# Check the output by using sklearn.metrics.accuracy_score\n",
    "# calculate accuracy score\n",
    "from sklearn.metrics import accuracy_score\n",
    "\n",
    "accuracy_score = accuracy_score(df['class'], df['scored.class'])\n",
    "print('Accuracy classification score:', accuracy_score)\n",
    "print('the Accuracy in our built function', func_accuracy)"
   ]
  },
  {
   "cell_type": "code",
   "execution_count": 26,
   "metadata": {},
   "outputs": [
    {
     "name": "stdout",
     "output_type": "stream",
     "text": [
      "Precision: 0.84375\n",
      "the Precision in our built function 0.84375\n"
     ]
    }
   ],
   "source": [
    "# Check the output by using sklearn.metrics.recall_score\n",
    "# calculate precision\n",
    "from sklearn.metrics import precision_score\n",
    "\n",
    "precision = precision_score(df['class'], df['scored.class'], average='binary')\n",
    "print('Precision:', precision)\n",
    "print('the Precision in our built function', func_precision)"
   ]
  },
  {
   "cell_type": "code",
   "execution_count": null,
   "metadata": {},
   "outputs": [],
   "source": [
    "# Check the output by using sklearn.metrics.f1_score\n",
    "# calculate f1 score\n",
    "from sklearn.metrics import f1_score\n",
    "\n",
    "f1 = f1_score(df['class'], df['scored.class'])\n",
    "print('F1 score:', f1)\n",
    "print('the f1 score in our built function', func_f1score)"
   ]
  },
  {
   "cell_type": "code",
   "execution_count": 27,
   "metadata": {},
   "outputs": [
    {
     "data": {
      "text/html": [
       "<div>\n",
       "<style scoped>\n",
       "    .dataframe tbody tr th:only-of-type {\n",
       "        vertical-align: middle;\n",
       "    }\n",
       "\n",
       "    .dataframe tbody tr th {\n",
       "        vertical-align: top;\n",
       "    }\n",
       "\n",
       "    .dataframe thead th {\n",
       "        text-align: right;\n",
       "    }\n",
       "</style>\n",
       "<table border=\"1\" class=\"dataframe\">\n",
       "  <thead>\n",
       "    <tr style=\"text-align: right;\">\n",
       "      <th></th>\n",
       "      <th>f1-score</th>\n",
       "      <th>precision</th>\n",
       "      <th>recall</th>\n",
       "      <th>support</th>\n",
       "    </tr>\n",
       "  </thead>\n",
       "  <tbody>\n",
       "    <tr>\n",
       "      <th>0</th>\n",
       "      <td>0.871795</td>\n",
       "      <td>0.798658</td>\n",
       "      <td>0.959677</td>\n",
       "      <td>124.00000</td>\n",
       "    </tr>\n",
       "    <tr>\n",
       "      <th>1</th>\n",
       "      <td>0.606742</td>\n",
       "      <td>0.843750</td>\n",
       "      <td>0.473684</td>\n",
       "      <td>57.00000</td>\n",
       "    </tr>\n",
       "    <tr>\n",
       "      <th>accuracy</th>\n",
       "      <td>0.806630</td>\n",
       "      <td>0.806630</td>\n",
       "      <td>0.806630</td>\n",
       "      <td>0.80663</td>\n",
       "    </tr>\n",
       "    <tr>\n",
       "      <th>macro avg</th>\n",
       "      <td>0.739268</td>\n",
       "      <td>0.821204</td>\n",
       "      <td>0.716681</td>\n",
       "      <td>181.00000</td>\n",
       "    </tr>\n",
       "    <tr>\n",
       "      <th>weighted avg</th>\n",
       "      <td>0.788325</td>\n",
       "      <td>0.812858</td>\n",
       "      <td>0.806630</td>\n",
       "      <td>181.00000</td>\n",
       "    </tr>\n",
       "  </tbody>\n",
       "</table>\n",
       "</div>"
      ],
      "text/plain": [
       "              f1-score  precision    recall    support\n",
       "0             0.871795   0.798658  0.959677  124.00000\n",
       "1             0.606742   0.843750  0.473684   57.00000\n",
       "accuracy      0.806630   0.806630  0.806630    0.80663\n",
       "macro avg     0.739268   0.821204  0.716681  181.00000\n",
       "weighted avg  0.788325   0.812858  0.806630  181.00000"
      ]
     },
     "execution_count": 27,
     "metadata": {},
     "output_type": "execute_result"
    }
   ],
   "source": [
    "# create classification report using the metrics.classification_report() function\n",
    "# import accuracy_score library\n",
    "from sklearn.metrics import classification_report\n",
    "\n",
    "\n",
    "# use class,scored.classdata to create a metrics.classification_report()\n",
    "report = classification_report(df['class'],df['scored.class'],output_dict=True)\n",
    "# exchange array to dataframe\n",
    "report2 = pd.DataFrame(report).transpose()\n",
    "report2"
   ]
  },
  {
   "cell_type": "markdown",
   "metadata": {},
   "source": [
    "Conclusions:\n",
    "    \n",
    "1.Comparing the results from the scikit-learn library with those of the functions we’ve created, we can see that the results from two methods are the same.\n",
    "\n",
    "2.Both of the Accuracy classification score is 0.8066298342541437, Precision is 0.84375, Sensitivity is 0.47368421052631576, and F1 score is 0.6067415730337079, which proves that our functions are correct."
   ]
  },
  {
   "cell_type": "markdown",
   "metadata": {},
   "source": [
    "# 13) Using scikit-learn package to generate a ROC plot and calculate AUC"
   ]
  },
  {
   "cell_type": "code",
   "execution_count": 40,
   "metadata": {},
   "outputs": [
    {
     "name": "stdout",
     "output_type": "stream",
     "text": [
      "package auc socre: 0.8503112620260328\n"
     ]
    }
   ],
   "source": [
    "# Using metrics.auc() to calculate AUC\n",
    "from sklearn.metrics import roc_auc_score\n",
    "\n",
    "# confirm with scikit-learn's result\n",
    "auc = roc_auc_score(df['class'], df['scored.probability'])\n",
    "print('package auc socre:', auc_score)"
   ]
  },
  {
   "cell_type": "code",
   "execution_count": 41,
   "metadata": {},
   "outputs": [
    {
     "data": {
      "image/png": "[encoded data removed]",
      "text/plain": [
       "<Figure size 432x288 with 1 Axes>"
      ]
     },
     "metadata": {
      "needs_background": "light"
     },
     "output_type": "display_data"
    }
   ],
   "source": [
    "# Using sklearn.metrics.roc_curve to generate a ROC plot\n",
    "from sklearn.metrics import roc_curve\n",
    "\n",
    "def plot_roc_curve(fpr, tpr, label=None):\n",
    "    plt.plot(fpr00, tpr00, color='green', label='AUC=%0.2f'%auc)\n",
    "    plt.plot([0, 1], [0, 1], color='darkred', linestyle='--')\n",
    "    plt.xlabel('False Positive Rate')\n",
    "    plt.ylabel('True Positive Rate')\n",
    "    plt.title('Figure02: ROC Curve')\n",
    "    plt.legend()\n",
    "    plt.show()\n",
    "\n",
    "fpr00, tpr00, thresholds = roc_curve(df['class'], df['scored.probability'])\n",
    "\n",
    "plot_roc_curve(fpr00, tpr00)"
   ]
  },
  {
   "cell_type": "markdown",
   "metadata": {},
   "source": [
    "# Conclusions:\n",
    "Figure01 was generated by using the function. Figure02 was generated by using scikit-learn package.\n",
    "\n",
    "These two figures look the same.\n",
    "\n",
    "The AUC score calculated by the function is 0.8503112620260328, which is the same as the AUC socre calculated by scikit-learn package."
   ]
  },
  {
   "cell_type": "code",
   "execution_count": null,
   "metadata": {},
   "outputs": [],
   "source": []
  }
 ],
 "metadata": {
  "kernelspec": {
   "display_name": "Python 3",
   "language": "python",
   "name": "python3"
  },
  "language_info": {
   "codemirror_mode": {
    "name": "ipython",
    "version": 3
   },
   "file_extension": ".py",
   "mimetype": "text/x-python",
   "name": "python",
   "nbconvert_exporter": "python",
   "pygments_lexer": "ipython3",
   "version": "3.7.3"
  }
 },
 "nbformat": 4,
 "nbformat_minor": 2
}
